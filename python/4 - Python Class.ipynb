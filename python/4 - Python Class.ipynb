{
 "cells": [
  {
   "cell_type": "markdown",
   "metadata": {},
   "source": [
    "# 4. 类\n",
    " - 类关键字class\n",
    " - 类继承（）\n",
    " - 初始化函数中，self后面的是实例化对象的属性，加下划线的意思是：这个属性是私有的，不要访问（只是约定俗成的，实际上可经访问）\n",
    " - 属性装饰器：@property"
   ]
  },
  {
   "cell_type": "code",
   "execution_count": 32,
   "metadata": {},
   "outputs": [
    {
     "name": "stdout",
     "output_type": "stream",
     "text": [
      "Hejian\n",
      "TiaoPao\n",
      "Hejian\n"
     ]
    }
   ],
   "source": [
    "class Person:\n",
    "    def __init__(self, name, age):\n",
    "        self._name= name\n",
    "        self.name_ = name\n",
    "        self.age_ = age\n",
    "        \n",
    "    def set_age(self, age):\n",
    "        self.age_ = age\n",
    "        \n",
    "    def get_name(self):\n",
    "        return self.name_\n",
    "    \n",
    "    def get_age(self):\n",
    "        return self.age_\n",
    "    \n",
    "    @property\n",
    "    def name(self):\n",
    "        return self.name_\n",
    "    \n",
    "            \n",
    "p = Person('Hejian', 35)\n",
    "print(p.get_name())\n",
    "\n",
    "p1 = Person('TiaoPao', 8)\n",
    "print(p1.get_name())\n",
    "\n",
    "# print(p.name()) 函数不具有@porperty属性 装饰器\n",
    "print(p.name)\n",
    "\n"
   ]
  },
  {
   "cell_type": "markdown",
   "metadata": {},
   "source": [
    " - 类继承\n",
    "     - pass:代表什么都不做，只是一个占位而已 "
   ]
  },
  {
   "cell_type": "code",
   "execution_count": 18,
   "metadata": {},
   "outputs": [
    {
     "name": "stdout",
     "output_type": "stream",
     "text": [
      "Pao , 7\n"
     ]
    }
   ],
   "source": [
    "class Students(Person):\n",
    "    pass\n",
    "\n",
    "\n",
    "s = Students('Pao', 7)\n",
    "print(s.get_name(), ',',s.get_age())"
   ]
  },
  {
   "cell_type": "code",
   "execution_count": 22,
   "metadata": {},
   "outputs": [
    {
     "name": "stdout",
     "output_type": "stream",
     "text": [
      "Tiao\n",
      "Name=Tiao, age=12, score=99\n"
     ]
    }
   ],
   "source": [
    "class Students(Person):\n",
    "    def set_score(self, score):\n",
    "        self.score_ = score\n",
    "    def get_score(self):\n",
    "        return self.score_\n",
    "\n",
    "s = Students('Tiao', 12)\n",
    "s.set_score(99)\n",
    "\n",
    "print(s.name_)\n",
    "\n",
    "print('Name={}, age={}, score={}'.format(s.get_name(), s.get_age(), s.get_score()))    "
   ]
  },
  {
   "cell_type": "code",
   "execution_count": null,
   "metadata": {},
   "outputs": [],
   "source": []
  },
  {
   "cell_type": "code",
   "execution_count": null,
   "metadata": {},
   "outputs": [],
   "source": []
  },
  {
   "cell_type": "code",
   "execution_count": null,
   "metadata": {},
   "outputs": [],
   "source": []
  },
  {
   "cell_type": "code",
   "execution_count": null,
   "metadata": {},
   "outputs": [],
   "source": []
  }
 ],
 "metadata": {
  "kernelspec": {
   "display_name": "Python 3",
   "language": "python",
   "name": "python3"
  },
  "language_info": {
   "codemirror_mode": {
    "name": "ipython",
    "version": 3
   },
   "file_extension": ".py",
   "mimetype": "text/x-python",
   "name": "python",
   "nbconvert_exporter": "python",
   "pygments_lexer": "ipython3",
   "version": "3.6.5"
  }
 },
 "nbformat": 4,
 "nbformat_minor": 2
}

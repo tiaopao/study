{
 "cells": [
  {
   "cell_type": "markdown",
   "metadata": {},
   "source": [
    "# 5. Python操作数据库\n",
    " - Python数据结构可视化工具: http://www.pythontutor.com (查看内存数据)\n",
    " - MySQL数据库的基本操作\n",
    " - 用Python操作数据库\n",
    " - 编写Python爬虫并保存到数据库"
   ]
  },
  {
   "cell_type": "markdown",
   "metadata": {},
   "source": [
    "## 5.1数据库\n",
    " - 关系型数据库\n",
    "     - MySQL数据库：开源、免费 (现已被Oracle收购)\n",
    "     - MariaDB：与MySQL完全兼容且免费 \n",
    " - 非关系型数据库\n",
    "     - MongoDB\n",
    "     - Redis\n",
    " "
   ]
  },
  {
   "cell_type": "markdown",
   "metadata": {},
   "source": [
    " - JSON格式"
   ]
  },
  {
   "cell_type": "code",
   "execution_count": 20,
   "metadata": {},
   "outputs": [
    {
     "name": "stdout",
     "output_type": "stream",
     "text": [
      "{'iphone': {'color': 'red', 'num': 1, 'price': 98.5}, 'wather': {'num': 100, 'price': 1, 'color': 'white'}}\n",
      "{'color': 'red', 'num': 1, 'price': 98.5}\n",
      "{'a': 100, 'b': 200}\n",
      "data={'iphone': {'color': 'red', 'num': 1, 'price': 98.5}, 'wather': {'num': 100, 'price': 1, 'color': 'white'}}\n"
     ]
    }
   ],
   "source": [
    "# import json\n",
    "# with open('D:\\APractise\\data\\data.json') as f:\n",
    "# #     data = json.loads(f)\n",
    "#     print(list(f.readlines))\n",
    "\n",
    "import json  \n",
    "\n",
    "data = {}\n",
    "with open('D:\\APractise\\data\\data.json',encoding='utf-8') as f: #打开‘data.json’的json文件\n",
    "    res = f.read() #读文件\n",
    "    data = json.loads(res) #把json串变成python的数据类型：字典  \n",
    "    print(data)\n",
    "\n",
    "print(data['iphone'])    \n",
    "\n",
    "data_1 = \"{'a':100, 'b':100}\"  # format is bad\n",
    "data_2 = '{\"a\":100,\"b\":200}'   # format is good\n",
    "\n",
    "j_data = json.loads(data_2)  # json.loads参数为字符串\n",
    "print(j_data)\n",
    "\n",
    "with open('D:\\APractise\\data\\data.json','r') as f: #打开‘data.json’的json文件\n",
    "    data = json.load(f)  # json.load参数为文件句柄\n",
    "    print('data={}'.format(data))\n",
    "\n"
   ]
  },
  {
   "cell_type": "markdown",
   "metadata": {},
   "source": [
    "## 5.2 使用命令行操作数据\n",
    " - 以下命令都是在数据库终端执行"
   ]
  },
  {
   "cell_type": "code",
   "execution_count": 4,
   "metadata": {},
   "outputs": [],
   "source": [
    "## 连接数据库\n",
    "mysql -u root -p   \n",
    "# u是用户名，p 需要用户密码登录数据库\n",
    "\n",
    "## 查看数据库\n",
    "show databases; \n",
    "\n",
    "## 选择数据库\n",
    "use database_name;\n",
    "\n",
    "## 查看数据库中的table\n",
    "show tables;\n",
    "\n",
    "## 查看表的结构\n",
    "desc table_name;\n",
    "\n",
    "##  查看表中的内容\n",
    "select * from table_name;\n",
    "\n",
    "##  只看前10条记录\n",
    "select * from table_name limit 10;\n"
   ]
  },
  {
   "cell_type": "markdown",
   "metadata": {},
   "source": [
    "### 5.2.1 数据库管理工具\n",
    " - Sequel Pro：数据库管理工具(http://www.sequelpro.com) (MacOS)\n",
    " - NvaiCat：数据库管理工具 （Windows)\n",
    "     - https://www.cr173.com/soft/126934.html\n",
    "     - https://blog.csdn.net/damaibao/article/details/91360061"
   ]
  },
  {
   "cell_type": "markdown",
   "metadata": {},
   "source": [
    "### 5.2.2 MySQL与Excel的不同\n",
    " - Excel不存储太多的数据\n",
    " - Excel每次打开所有的数据, 不能只打开想要的数据\n",
    " - Excel无法把重复数据独立成一张表，信息冗余量大"
   ]
  },
  {
   "cell_type": "markdown",
   "metadata": {},
   "source": [
    "### 5.2.3 命令行操作数据库\n",
    " - 数据类型：http://www.runoob.com/mysql/mysql-data-types.html\n",
    " - 整数数据类型\n",
    "  - TINYINT：1 \n",
    "  - SMALLINT：2 \n",
    "  - MEDIUMINT：3 \n",
    "  - INT：4 \n",
    "  - BIGINT：8 \n",
    "  - FLOAT：4 \n",
    "  - DOUBLE：8 \n",
    "  - DECIMAL：DECIMAL(M,D) \n",
    "\n",
    " - 日期和时间类型\n",
    "  - DATE\n",
    "  - TIME\n",
    "  - YEAR\n",
    "  - DATETIME\n",
    "  - TIMESTAMP\n",
    " - 字符串类型\n",
    "  - CHAR (0-255)\n",
    "  - VARCHAR (变长)\n",
    "  - TINYBLOB\n",
    "  - TINYTEXT\n",
    "  - BLOB\n",
    "  - TEXT\n",
    "  - MEDIUMBLOB\n",
    "  - MEDIUMTEXT\n",
    "  - LONGBLOB\n",
    "  - LONGTEXT"
   ]
  },
  {
   "cell_type": "code",
   "execution_count": null,
   "metadata": {},
   "outputs": [],
   "source": [
    "## 创建数据库\n",
    "create database mydb; \n",
    "\n",
    "## 删除数据库\n",
    "drop database mydb;\n",
    "\n",
    "## 指定字符集和校对集,创建数据库\n",
    "create database mydb default charset utf8mb4 collate utf8mb4_general_ci;\n",
    "\n",
    "## 创建表格\n",
    "# id INT(11), 不足11位时，当选择了zerofill,前面不足11位的用0填充,\n",
    "\n",
    "CREATE TABLE tb_class \n",
    "(\n",
    "id INT(11) NOT NULL AUTO_INCREMENT, \n",
    "name VARCHAR(80) NOT NULL, \n",
    "PRIMARY KEY(id)\n",
    ");\n",
    "\n",
    "    \n",
    "CREATE TABLE tb_score\n",
    "(\n",
    "id INT(11)  NOT NULL AUTO_INCREMENT,\n",
    "student_id INT(11) NOT NULL,\n",
    "subject_id INT(11) NOT NULL,\n",
    "exam_id INT(11) NOT NULL,\n",
    "score INT(11) NOT NULL,\n",
    "PRIMARY KEY(id)\n",
    ");\n",
    "\n",
    "\n",
    "CREATE TABLE tb_student\n",
    "(\n",
    "id INT(11) unsigned NOT NULL AUTO_INCREMENT,\n",
    "class_id INT(11) NOT NULL,\n",
    "sex CHAR(10) CHARACTER SET utf8 NOT NULL,\n",
    "name VARCHAR(80) CHARACTER SET utf8 NOT NULL,\n",
    "PRIMARY KEY(id)\n",
    ");\n",
    "\n",
    "\n",
    "CREATE TABLE tb_subject\n",
    "(\n",
    "id INT(11) unsigned NOT NULL AUTO_INCREMENT,\n",
    "name VARCHAR(80) CHARACTER SET utf8,\n",
    "PRIMARY KEY(id)   \n",
    ");\n",
    " \n",
    "\n",
    "## 插入数据\n",
    "# INSERT INTO table_name ( field1, field2,...fieldN )\n",
    "#                        VALUES\n",
    "#                        ( value1, value2,...valueN );\n",
    "\n",
    "INSERT INTO tb_class (name) VALUES ('初一1班');\n",
    "INSERT INTO tb_class (name) VALUES ('初一2班');\n",
    "INSERT INTO tb_class (name) VALUES ('初一3班');\n",
    "INSERT INTO tb_class (name) VALUES ('初一4班');\n",
    "INSERT INTO tb_class (name) VALUES ('初一5班');\n",
    "INSERT INTO tb_class (name) VALUES ('初一6班');\n",
    "\n",
    "\n",
    "## 查询数据\n",
    "# SELECT column_name,column_name\n",
    "# FROM table_name\n",
    "# [WHERE Clause]\n",
    "# [LIMIT N][ OFFSET M]\n",
    "SELECT * FROM tb_class;\n",
    "\n",
    "## 修改数据\n",
    "# UPDATE table_name SET field1=new-value1, field2=new-value2\n",
    "# [WHERE Clause]\n",
    "UPDATE tb_class SET name='初一一班' where id=1;\n",
    "\n",
    "\n",
    "## 删除数据\n",
    "# DELETE FROM table_name [WHERE Clause]\n",
    "DELETE FROM tb_class where id=1;\n",
    "\n"
   ]
  },
  {
   "cell_type": "markdown",
   "metadata": {},
   "source": [
    "## 5.3 使用Python操作数据库\n",
    " - 在Python3的Anaconda3环境下，执行pip install mysqlclient-1.4.6-cp36-cp36m-win_amd64.whl安装MySQLdb"
   ]
  },
  {
   "cell_type": "code",
   "execution_count": 2,
   "metadata": {},
   "outputs": [],
   "source": [
    "import MySQLdb\n",
    "DATABASE={\n",
    "    'host':'127.0.0.1', \n",
    "    'database':'study',\n",
    "    'user':'root',\n",
    "    'password':'123456',\n",
    "    'charset':'utf8'\n",
    "}\n",
    "\n",
    "# db = MySQLdb.connect(host='127.0.0.1', user='root', password='123456', db='study')\n",
    "db = MySQLdb.connect(**DATABASE)\n",
    "# db代表study数据库"
   ]
  },
  {
   "cell_type": "markdown",
   "metadata": {},
   "source": [
    "- 游标"
   ]
  },
  {
   "cell_type": "code",
   "execution_count": 46,
   "metadata": {},
   "outputs": [
    {
     "name": "stdout",
     "output_type": "stream",
     "text": [
      "===========Query All========\n",
      "(1, '初一一班')\n",
      "(3, '初一3班')\n",
      "(4, '初一4班')\n",
      "(5, '初一5班')\n",
      "(6, '初一7班')\n",
      "(7, '初一2班')\n",
      "(8, '初一8班')\n",
      "(47, '初一20班')\n",
      "(49, '初一20班')\n",
      "(51, '初一20班')\n",
      "(53, '初一20班')\n",
      "(55, '初一20班')\n",
      "(57, '初一20班')\n",
      "(59, '初一20班')\n",
      "(61, '初一20班')\n",
      "(63, '初一20班')\n",
      "===========Query 初一9班========\n",
      "===========Query 初一9班========\n",
      "(65, '初一9班')\n",
      "===========Query 初一9班========\n"
     ]
    }
   ],
   "source": [
    "cursor = db.cursor()\n",
    "\n",
    "## 查询函数\n",
    "def query_execute(sql):\n",
    "    cursor.execute(sql)\n",
    "    results = cursor.fetchall()\n",
    "    for row in results:\n",
    "        print(row)\n",
    "        \n",
    "def query_all(tbl_name):\n",
    "    sql = \"SELECT * FROM \" + tbl_name\n",
    "    query_execute(sql)\n",
    "\n",
    "def query_condition(tbl_name, name):\n",
    "    sql = \"SELECT * FROM {} WHERE name='{}'\".format(tbl_name, name)\n",
    "    query_execute(sql)\n",
    "    \n",
    "def operate_execute(sql):\n",
    "    cursor.execute(sql)\n",
    "    db.commit()\n",
    "    \n",
    "    \n",
    "print(\"===========Query All========\")        \n",
    "query_all('tb_class')\n",
    "\n",
    "print(\"===========Query 初一9班========\")        \n",
    "query_condition('tb_class', '初一9班')\n",
    "\n",
    "\n",
    "\n",
    "\n",
    "        \n",
    "## 插入操作\n",
    "sql = \"INSERT INTO tb_class (name) VALUES ('初一9班')\"\n",
    "cursor.execute(sql)\n",
    "sql = \"INSERT INTO tb_class (name) VALUES ('初一10班')\"\n",
    "cursor.execute(sql)\n",
    "db.commit()\n",
    "\n",
    "# print(\"===========Before Insert========\")\n",
    "# query_tb_class(tb_name) \n",
    " \n",
    "## 删除操作\n",
    "sql = \"DELETE FROM tb_class WHERE name='初一10班'\"\n",
    "cursor.execute(sql)\n",
    "db.commit()\n",
    "\n",
    "\n",
    "print(\"===========Query 初一9班========\")        \n",
    "query_condition('tb_class', '初一9班')\n",
    "\n",
    "## 更新操作\n",
    "sql = \"UPDATE tb_class set name='初一20班' WHERE name='初一9班'\"\n",
    "cursor.execute(sql)\n",
    "db.commit()\n",
    "\n",
    "print(\"===========Query 初一9班========\") \n",
    "query_condition('tb_class', '初一9班')\n"
   ]
  },
  {
   "cell_type": "markdown",
   "metadata": {},
   "source": [
    " - 捕捉异常"
   ]
  },
  {
   "cell_type": "code",
   "execution_count": 53,
   "metadata": {},
   "outputs": [
    {
     "name": "stdout",
     "output_type": "stream",
     "text": [
      "unsupported operand type(s) for +: 'int' and 'str'\n"
     ]
    }
   ],
   "source": [
    "try:\n",
    "    a = 10\n",
    "    b = a + \"hello\"\n",
    "except TypeError as e:    \n",
    "# except Exception as e:\n",
    "    print(e)\n",
    "\n"
   ]
  },
  {
   "cell_type": "code",
   "execution_count": 62,
   "metadata": {},
   "outputs": [
    {
     "name": "stdout",
     "output_type": "stream",
     "text": [
      "ERROR: unsupported operand type(s) for +: 'int' and 'str'\n",
      "(67, '初一100班')\n",
      "(68, '初一100班')\n",
      "(69, '初一100班')\n",
      "(70, '初一100班')\n",
      "(71, '初一100班')\n",
      "(72, '初一100班')\n",
      "(73, '初一100班')\n",
      "(74, '初一100班')\n"
     ]
    }
   ],
   "source": [
    "try:\n",
    "    sql = \"INSERT INTO tb_class (name) VALUES ('初一100班')\"\n",
    "    cursor.execute(sql)\n",
    "    db.commit()\n",
    "    a = 10\n",
    "    b = 10 + \"HELLO\"\n",
    "except Exception as e:\n",
    "    db.rollback()  # 回滚\n",
    "    print('ERROR:',e)\n",
    "\n",
    "query_condition('tb_class', '初一100班')    \n",
    "    "
   ]
  },
  {
   "cell_type": "code",
   "execution_count": null,
   "metadata": {},
   "outputs": [],
   "source": []
  },
  {
   "cell_type": "code",
   "execution_count": null,
   "metadata": {},
   "outputs": [],
   "source": []
  },
  {
   "cell_type": "code",
   "execution_count": null,
   "metadata": {},
   "outputs": [],
   "source": []
  },
  {
   "cell_type": "code",
   "execution_count": null,
   "metadata": {},
   "outputs": [],
   "source": []
  },
  {
   "cell_type": "code",
   "execution_count": null,
   "metadata": {},
   "outputs": [],
   "source": []
  },
  {
   "cell_type": "code",
   "execution_count": null,
   "metadata": {},
   "outputs": [],
   "source": []
  }
 ],
 "metadata": {
  "kernelspec": {
   "display_name": "Python 3",
   "language": "python",
   "name": "python3"
  },
  "language_info": {
   "codemirror_mode": {
    "name": "ipython",
    "version": 3
   },
   "file_extension": ".py",
   "mimetype": "text/x-python",
   "name": "python",
   "nbconvert_exporter": "python",
   "pygments_lexer": "ipython3",
   "version": "3.6.5"
  }
 },
 "nbformat": 4,
 "nbformat_minor": 2
}

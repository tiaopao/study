{
 "cells": [
  {
   "cell_type": "markdown",
   "metadata": {},
   "source": [
    "# 3. 函数\n",
    " - 函数是组织好的，可重复使用的，能够完成特定功能的代码块，它是代码块的抽象\n",
    " - 装饰器：把函数赋值给一个变量"
   ]
  },
  {
   "cell_type": "code",
   "execution_count": 4,
   "metadata": {},
   "outputs": [
    {
     "name": "stdout",
     "output_type": "stream",
     "text": [
      "200\n",
      "dict_items([('a', 100), ('b', 100), ('c', 200)])\n",
      "a=['a', 'b', 'c']\n",
      "a=['a', 'b']\n"
     ]
    }
   ],
   "source": [
    "var = {'a':100, 'b':100, 'c':200}\n",
    "print(var['c'])\n",
    "print(var.items())\n",
    "\n",
    "# 访问字典元素\n",
    "a = [key for key,value in var.items()]\n",
    "print('a={}'.format(a))\n",
    "\n",
    "\n",
    "b = [key for key,value in var.items() if value==100]\n",
    "print('a={}'.format(b))\n"
   ]
  },
  {
   "cell_type": "code",
   "execution_count": 7,
   "metadata": {},
   "outputs": [
    {
     "name": "stdout",
     "output_type": "stream",
     "text": [
      "['a', 'b']\n",
      "['c']\n"
     ]
    }
   ],
   "source": [
    "def get_keys(dict_var, val):\n",
    "    return([k for k,v in dict_var.items() if v == val ])\n",
    "\n",
    "var = {'a':100, 'b':100, 'c':200}\n",
    "\n",
    "print(get_keys(var, 100))\n",
    "print(get_keys(var, 200))"
   ]
  },
  {
   "cell_type": "markdown",
   "metadata": {},
   "source": [
    " - 函数参数\n",
    "    - 位置参数：必须严格按照顺序写\n",
    "    - 关键字参数：可以不按照顺序写                "
   ]
  },
  {
   "cell_type": "code",
   "execution_count": 8,
   "metadata": {},
   "outputs": [
    {
     "name": "stdout",
     "output_type": "stream",
     "text": [
      "['a', 'b']\n"
     ]
    }
   ],
   "source": [
    "def get_keys(dict_var, val):\n",
    "    return([k for k,v in dict_var.items() if v == val ])\n",
    "\n",
    "var = {'a':100, 'b':100, 'c':200}\n",
    "print(get_keys(val=100, dict_var=var))"
   ]
  },
  {
   "cell_type": "markdown",
   "metadata": {},
   "source": [
    " - 函数传递类型：\n",
    "   - 变量：传值\n",
    "   - 列表：传地址\n",
    " - 不建议对可变类型在函数内进行更改，建议用函数返回值进行重新赋值    "
   ]
  },
  {
   "cell_type": "code",
   "execution_count": 19,
   "metadata": {},
   "outputs": [
    {
     "name": "stdout",
     "output_type": "stream",
     "text": [
      "val=200 in function\n",
      "var=100\n",
      "test_list=[101, 102, 103]\n"
     ]
    }
   ],
   "source": [
    "# 传值参数\n",
    "def set_val(val):\n",
    "    val += 100\n",
    "    print('val={} in function'.format(val))\n",
    "\n",
    "var = 100\n",
    "set_val(var)\n",
    "print('var={}'.format(var))\n",
    "\n",
    "def update_list(var):\n",
    "    for i in range(len(var)):\n",
    "        var[i] += 100\n",
    "\n",
    "test_list = [1,2,3]\n",
    "update_list(test_list)\n",
    "print('test_list={}'.format(test_list))\n",
    "\n"
   ]
  },
  {
   "cell_type": "code",
   "execution_count": 1,
   "metadata": {},
   "outputs": [
    {
     "name": "stdout",
     "output_type": "stream",
     "text": [
      "[100]\n"
     ]
    }
   ],
   "source": [
    "def test(var):\n",
    "    temp = var.copy() # 数据copy,效率不高\n",
    "    temp.append(100)\n",
    "    return temp\n",
    "\n",
    "var = []\n",
    "print(test(var))"
   ]
  },
  {
   "cell_type": "markdown",
   "metadata": {},
   "source": [
    " - 参数的收集"
   ]
  },
  {
   "cell_type": "code",
   "execution_count": 9,
   "metadata": {},
   "outputs": [
    {
     "name": "stdout",
     "output_type": "stream",
     "text": [
      "luo 35\n",
      "luo 35 hi\n",
      "luo 35 hi [1, 2, 3] hellow\n",
      "luo 35 {'weight': 100, 'height': 170}\n"
     ]
    }
   ],
   "source": [
    "def test(name, age, *args, **kwargs):\n",
    "    print(name, age, *args, **kwargs)\n",
    "\n",
    "test('luo', 35)    \n",
    "test('luo', 35, 'hi')   \n",
    "test('luo', 35, 'hi', [1,2,3], 'hellow')    \n",
    "\n",
    "dict_var = {'weight':100, 'height':170}\n",
    "test('luo', 35, dict_var)"
   ]
  },
  {
   "cell_type": "markdown",
   "metadata": {},
   "source": [
    " - 装饰器\n",
    "  - 把函数赋值给一个变量\n",
    "  - 函数可以返回一个函数"
   ]
  },
  {
   "cell_type": "code",
   "execution_count": 10,
   "metadata": {},
   "outputs": [
    {
     "name": "stdout",
     "output_type": "stream",
     "text": [
      "test\n"
     ]
    }
   ],
   "source": [
    "a = 10\n",
    "b = [12,13]\n",
    "def test():\n",
    "    print('test')\n",
    "c = test\n",
    "print(c.__name__)"
   ]
  },
  {
   "cell_type": "code",
   "execution_count": 14,
   "metadata": {},
   "outputs": [
    {
     "name": "stdout",
     "output_type": "stream",
     "text": [
      "func\n",
      "function\n"
     ]
    }
   ],
   "source": [
    "def test(func):\n",
    "    return func\n",
    "\n",
    "def func():\n",
    "    print('function')\n",
    "\n",
    "a = test(func)\n",
    "print(a.__name__)\n",
    "a()"
   ]
  },
  {
   "cell_type": "code",
   "execution_count": 16,
   "metadata": {},
   "outputs": [
    {
     "data": {
      "text/plain": [
       "0.467"
      ]
     },
     "execution_count": 16,
     "metadata": {},
     "output_type": "execute_result"
    }
   ],
   "source": [
    "import random\n",
    "# 返回一个0-1的浮点值\n",
    "def test():\n",
    "    return round(random.random(),3)\n",
    "test()"
   ]
  },
  {
   "cell_type": "markdown",
   "metadata": {},
   "source": [
    " - Python另一个语法糖：装饰器"
   ]
  },
  {
   "cell_type": "code",
   "execution_count": 78,
   "metadata": {},
   "outputs": [
    {
     "name": "stdout",
     "output_type": "stream",
     "text": [
      "wrapper\n",
      "wrapper\n",
      "executing wrapper\n",
      "executing wrapper\n",
      "0.043\n",
      "executing wrapper\n",
      "0.233\n",
      "executing wrapper\n",
      "2.056\n"
     ]
    }
   ],
   "source": [
    "# 保留3位小数\n",
    "@decorator\n",
    "def test():\n",
    "    return random.random()\n",
    "@decorator\n",
    "def test2():\n",
    "    return random.random()*10\n",
    "\n",
    "def decorator(func):\n",
    "    def wrapper(*args, **kwargs):\n",
    "        # do something\n",
    "        print(\"executing wrapper\")\n",
    "        return round(func(*args, **kwargs),3)\n",
    "    return wrapper\n",
    "\n",
    "# f = decorator(test) # 完全等价于装饰器的写法\n",
    "print(f.__name__)\n",
    "print(test.__name__)\n",
    "print(f())\n",
    "print(test())\n",
    "print(test2())\n"
   ]
  },
  {
   "cell_type": "code",
   "execution_count": null,
   "metadata": {},
   "outputs": [],
   "source": []
  },
  {
   "cell_type": "code",
   "execution_count": null,
   "metadata": {},
   "outputs": [],
   "source": []
  },
  {
   "cell_type": "code",
   "execution_count": null,
   "metadata": {},
   "outputs": [],
   "source": []
  },
  {
   "cell_type": "code",
   "execution_count": null,
   "metadata": {},
   "outputs": [],
   "source": []
  },
  {
   "cell_type": "code",
   "execution_count": null,
   "metadata": {},
   "outputs": [],
   "source": []
  },
  {
   "cell_type": "code",
   "execution_count": null,
   "metadata": {},
   "outputs": [],
   "source": []
  },
  {
   "cell_type": "code",
   "execution_count": null,
   "metadata": {},
   "outputs": [],
   "source": []
  },
  {
   "cell_type": "code",
   "execution_count": null,
   "metadata": {},
   "outputs": [],
   "source": []
  }
 ],
 "metadata": {
  "kernelspec": {
   "display_name": "Python 3",
   "language": "python",
   "name": "python3"
  },
  "language_info": {
   "codemirror_mode": {
    "name": "ipython",
    "version": 3
   },
   "file_extension": ".py",
   "mimetype": "text/x-python",
   "name": "python",
   "nbconvert_exporter": "python",
   "pygments_lexer": "ipython3",
   "version": "3.6.5"
  }
 },
 "nbformat": 4,
 "nbformat_minor": 2
}

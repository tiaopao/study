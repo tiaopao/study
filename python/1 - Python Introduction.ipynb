{
 "cells": [
  {
   "cell_type": "markdown",
   "metadata": {},
   "source": [
    "# 1. Python特性\n",
    " 1. 语言简洁\n",
    " 2. 跨平台\n",
    " 3. 功能丰富：网站、爬虫、大数据处理、机器学习\n",
    " 4. 功能强大，丰富的第三方插件\n",
    " 5. 基本特性\n",
    "  - Python是一种动态类型的语言，一个变量是什么类型，要看程序在运行过程中变量所代表的值是什么\n",
    "  - 变量指向内存地址\n",
    "  - 序列：列表是一种容器型的序列，字符串是一种扁平型的序列\n",
    "  - 列表：指向同一个列表的所有变量共享同一个内存 \n",
    "  - 列表.copy:列表中的列表是浅复制，即数据在所有列表中共享\n",
    "  - 字典元素为： key:value对\n",
    "  - zip() 函数用于将可迭代对象作为参数，将对象中对应的元素打包成一个个元组，然后返回由这些元组组成的对象。如果各个可迭代对象的元素个数不一致，则返回的对象长度与最短的可迭代对象相同。利用 * 号操作符，可以将元组解压为列表。\n",
    "  - list_line. 按tab查看所有支持的函数\n",
    "  - 查看帮助：line.capitalize? 然后按Shift + Enter\n"
   ]
  },
  {
   "cell_type": "code",
   "execution_count": 14,
   "metadata": {},
   "outputs": [
    {
     "name": "stdout",
     "output_type": "stream",
     "text": [
      "Hello World 1\n",
      "Hello Workd 2 a= 3\n",
      "1793437984\n",
      "1793438016\n",
      "2131622043128\n",
      "2131622043408\n",
      "Abcd\n",
      "***abcd***\n",
      "type(a)=<class 'int'>, type(b)=<class 'str'>\n"
     ]
    }
   ],
   "source": [
    "print('Hello World 1')\n",
    "a = 3\n",
    "print(\"Hello Workd 2\", 'a=',a)\n",
    "print(id(a))\n",
    "a = 4\n",
    "print(id(a))\n",
    "\n",
    "# id获取变量标识（相当于内存地址）\n",
    "# 变量指向内存地址\n",
    "b = \"nihao\"\n",
    "print(id(b))\n",
    "\n",
    "b = \"buhao\"\n",
    "print(id(b))\n",
    "\n",
    "# line. 按tab查看所有支持的函数\n",
    "# 查看帮助：line.capitalize? 然后按Shift + Enter\n",
    "line = 'abcd'\n",
    "print(line.capitalize())\n",
    "print(line.center(10,'*'))\n",
    "\n",
    "# 查看变量类型\n",
    "a = 100\n",
    "b = 'abc'\n",
    "print('type(a)={}, type(b)={}'.format(type(a), type(b)))"
   ]
  },
  {
   "cell_type": "markdown",
   "metadata": {},
   "source": [
    "## 1.2 基本功能 \n",
    "### 1.2.1 从计算器开始"
   ]
  },
  {
   "cell_type": "code",
   "execution_count": 14,
   "metadata": {},
   "outputs": [
    {
     "name": "stdout",
     "output_type": "stream",
     "text": [
      "a= 150 , b= 1 , c= 1000 , d= 9.999999999999998\n"
     ]
    }
   ],
   "source": [
    "a = 100+50\n",
    "b = 100%3\n",
    "c = 10**3\n",
    "d = 1000**(1/3)\n",
    "print('a=',a,', b=',b,\", c=\",c, \", d=\",d)"
   ]
  },
  {
   "cell_type": "markdown",
   "metadata": {},
   "source": [
    " - Math"
   ]
  },
  {
   "cell_type": "code",
   "execution_count": 58,
   "metadata": {},
   "outputs": [
    {
     "name": "stdout",
     "output_type": "stream",
     "text": [
      "a= 3.141592653589793 , b= 1.0 , c= 1.0 , d= 0.9999999999999999\n",
      "floor+ceil: e= 9 , f= 10\n",
      "round: 33 , 33.33 , 10\n",
      "乘方: a=9.0, b=9\n",
      "开方：c=3.0\n",
      "角度->弧度: a=3.141592653589793\n",
      "最小值、最大值、和：a=5, b=30, c=65\n",
      "同时求商和余数: a =(4, 3)\n"
     ]
    }
   ],
   "source": [
    "import math\n",
    "a = math.pi\n",
    "b = math.sin(math.pi/2)\n",
    "c = math.cos(0)\n",
    "d = math.tan(math.pi/4)\n",
    "print('a=',a,', b=',b,\", c=\",c, \", d=\",d)\n",
    "\n",
    "# 向下取整\n",
    "e = math.floor(9.9)\n",
    "# 向上取整\n",
    "f = math.ceil(9.3)\n",
    "print(\"floor+ceil:\",'e=',e,', f=',f)\n",
    "\n",
    "# 按小数位数及四舍五入取整\n",
    "g = 100/3\n",
    "print(\"round:\",round(g),',',round(g,2), ',', round(9.6))\n",
    "\n",
    "# 乘方、开方\n",
    "a = math.pow(3,2)\n",
    "b = 3 ** 2\n",
    "c = math.sqrt(9)\n",
    "print(\"乘方: a={}, b={}\".format(a,b))\n",
    "print(\"开方：c={}\".format(c))\n",
    "\n",
    "# 角度->弧度\n",
    "a = math.radians(180)\n",
    "print(\"角度->弧度: a={}\".format(a))\n",
    "\n",
    "# 最小值、最大值、和\n",
    "a = min({10, 20, 30, 5})\n",
    "b = max({10, 20, 30, 5})\n",
    "c = sum({10, 20, 30, 5})\n",
    "print(\"最小值、最大值、和：a={}, b={}, c={}\".format(a, b, c))\n",
    "\n",
    "# 同时求商和余数\n",
    "a = divmod(19,4)\n",
    "print(\"同时求商和余数: a ={}\".format(a))\n",
    "\n"
   ]
  },
  {
   "cell_type": "markdown",
   "metadata": {},
   "source": [
    "### 1.2.2 增加的格式化字符串函数format"
   ]
  },
  {
   "cell_type": "code",
   "execution_count": 29,
   "metadata": {},
   "outputs": [
    {
     "data": {
      "text/plain": [
       "'apple_cost:1.3, grape_cost:2.5, total_cost:3.8'"
      ]
     },
     "execution_count": 29,
     "metadata": {},
     "output_type": "execute_result"
    }
   ],
   "source": [
    "apple_cost=1.3\n",
    "grape_cost = 2.5\n",
    "total_cost = apple_cost + grape_cost\n",
    "\"apple_cost:{}, grape_cost:{}, total_cost:{}\".format(apple_cost, grape_cost, total_cost)\n",
    "#print(\"output apple_cost:{}, grape_cost:{}, total_cost:{}\".format(apple_cost, grape_cost, total_cost))"
   ]
  },
  {
   "cell_type": "markdown",
   "metadata": {},
   "source": [
    "## 1.3 语法\n",
    "### 1.3.1 语法糖"
   ]
  },
  {
   "cell_type": "code",
   "execution_count": 30,
   "metadata": {},
   "outputs": [
    {
     "name": "stdout",
     "output_type": "stream",
     "text": [
      "a=10, b=3\n"
     ]
    }
   ],
   "source": [
    "a = 3\n",
    "b = 10\n",
    "a,b = b,a\n",
    "print(\"a={}, b={}\".format(a,b))"
   ]
  },
  {
   "cell_type": "markdown",
   "metadata": {},
   "source": [
    "### 1.3.2 命名规范\n",
    " - 第一个字符必须为大、小写字母或_\n",
    " - 后面的可为字母或_或数字   \n",
    " - 对大小写敏感"
   ]
  },
  {
   "cell_type": "code",
   "execution_count": 32,
   "metadata": {
    "scrolled": false
   },
   "outputs": [
    {
     "name": "stdout",
     "output_type": "stream",
     "text": [
      "W=10, w=20\n"
     ]
    }
   ],
   "source": [
    "W = 10\n",
    "w = 20\n",
    "print(\"W={}, w={}\".format(W,w))"
   ]
  },
  {
   "cell_type": "markdown",
   "metadata": {},
   "source": [
    "### 1.3.2 代码规范\n",
    " - 不要使用单字符\n",
    " - 变量名清晰表达变量含义\n",
    " - 合理使用字母中间下划线"
   ]
  },
  {
   "cell_type": "code",
   "execution_count": 39,
   "metadata": {},
   "outputs": [
    {
     "name": "stdout",
     "output_type": "stream",
     "text": [
      "apple_cost=12.75\n"
     ]
    }
   ],
   "source": [
    "apple_price = 5.1\n",
    "apple_weight = 2.5\n",
    "apple_cost = apple_price * apple_weight\n",
    "print(\"apple_cost={}\".format(apple_cost))"
   ]
  },
  {
   "cell_type": "markdown",
   "metadata": {},
   "source": [
    "### 1.3.3 数据类型\n",
    " - 字符串 str\n",
    " - 数值 int float complex\n",
    " - 列表 list\n",
    " - 元组 tuple\n",
    " - 字典 dict"
   ]
  },
  {
   "cell_type": "markdown",
   "metadata": {},
   "source": [
    "#### 1.3.3.1 字符串\n",
    " - 字符串是【不可变】类型的变量"
   ]
  },
  {
   "cell_type": "code",
   "execution_count": 79,
   "metadata": {},
   "outputs": [
    {
     "name": "stdout",
     "output_type": "stream",
     "text": [
      "ni hao,'xiao jie jie'\n",
      "ni hao,ni hao,ni hao,\n",
      "len=7\n",
      "2645504686768\n",
      "2645504686208\n"
     ]
    }
   ],
   "source": [
    "nihao=\"ni hao,\"\n",
    "xiao_jie_jie = \"\\'xiao jie jie\\'\"\n",
    "print(nihao+xiao_jie_jie)\n",
    "print(nihao*3)\n",
    "# len 返回字符串长度\n",
    "print(\"len={}\".format(len(nihao)))\n",
    "\n",
    "# id 获取变量标识（相当于变量的内存地址）\n",
    "b = \"nihao\"\n",
    "print(id(b))\n",
    "\n",
    "b = \"buhao\"\n",
    "print(id(b))"
   ]
  },
  {
   "cell_type": "markdown",
   "metadata": {},
   "source": [
    " - 字符串切片"
   ]
  },
  {
   "cell_type": "code",
   "execution_count": 26,
   "metadata": {},
   "outputs": [
    {
     "name": "stdout",
     "output_type": "stream",
     "text": [
      "I have a c\n",
      "ave a c\n",
      "BEH\n",
      "HIGKLMNOPQ\n",
      "QPONMLKGIHGFEDCBA\n",
      "A\n",
      "Q\n",
      "Abcdecfkga\n",
      "abcdecfKga\n",
      "2\n",
      "True\n",
      "True\n",
      "2\n",
      "-1\n",
      "2\n",
      "ABCDECFKGA\n",
      "abcdecfkga\n",
      "True\n",
      "False\n",
      "False\n",
      "False\n",
      "look s\n",
      "look s   \n",
      "\t  \n",
      "  look s\n"
     ]
    }
   ],
   "source": [
    "line = \"I have a colorful life in this holiday\"\n",
    "\n",
    "# 取前10个字符 起始索引：结束索引：步长 (要头不要尾，索引从0开始)\n",
    "print(line[:10])\n",
    "print(line[3:10])\n",
    "line = \"ABCDEFGHIGKLMNOPQ\"\n",
    "print(line[1:10:3])\n",
    "\n",
    "# 最后10个字符\n",
    "print(line[-10:])\n",
    "\n",
    "# 翻转字符\n",
    "print(line[::-1])\n",
    "\n",
    "# 单字符\n",
    "print(line[0])\n",
    "print(line[-1])\n",
    "\n",
    "# 字符串不高充许修改操作\n",
    "#line[0] = 'a' # 'str' object does not support item assignment\n",
    "\n",
    "# line. 按tab查看所有支持的函数\n",
    "# 查看帮助：line.capitalize? 然后按Shift + Enter\n",
    "line = 'abcdecfKga'\n",
    "print(line.capitalize())\n",
    "print(line.center(8,'*'))\n",
    "\n",
    "# 字符计数\n",
    "print(line.count('a'))\n",
    "\n",
    "# 以xx字符串结尾\n",
    "print(line.endswith('ga'))\n",
    "\n",
    "# 以xx字符串开始\n",
    "print(line.startswith('abc'))\n",
    "\n",
    "# 返回字符在字符串中第一次出现的下标\n",
    "print(line.find('cd'))\n",
    "print(line.find('A'))\n",
    "print(line.index('cd'))\n",
    "#print(line.index('A')) # ValueError: substring not found ('A'不存在)\n",
    "\n",
    "# 所有字母大写\n",
    "print(line.upper())\n",
    "print(line.lower())\n",
    "\n",
    "# 是否为标题\n",
    "line1=\"Abc\"\n",
    "print(line1.istitle())\n",
    "line1=\"aAbc\"\n",
    "print(line1.istitle())\n",
    "\n",
    "# 是否全大写\n",
    "print(line1.isupper())\n",
    "\n",
    "# 是否全小写\n",
    "print(line1.islower())\n",
    "\n",
    "line = '  look s   \\n\\t  '\n",
    "# 去掉两端无意义的字符\n",
    "print(line.strip())\n",
    "# 去掉左端无意义的字符\n",
    "print(line.lstrip())\n",
    "# 去掉右端无意义的字符\n",
    "print(line.rstrip())"
   ]
  },
  {
   "cell_type": "code",
   "execution_count": null,
   "metadata": {},
   "outputs": [],
   "source": []
  },
  {
   "cell_type": "code",
   "execution_count": null,
   "metadata": {},
   "outputs": [],
   "source": []
  },
  {
   "cell_type": "code",
   "execution_count": null,
   "metadata": {},
   "outputs": [],
   "source": []
  },
  {
   "cell_type": "code",
   "execution_count": null,
   "metadata": {},
   "outputs": [],
   "source": []
  },
  {
   "cell_type": "code",
   "execution_count": null,
   "metadata": {},
   "outputs": [],
   "source": []
  },
  {
   "cell_type": "markdown",
   "metadata": {},
   "source": [
    "#### 1.3.3.2 bool类型"
   ]
  },
  {
   "cell_type": "code",
   "execution_count": 72,
   "metadata": {},
   "outputs": [
    {
     "name": "stdout",
     "output_type": "stream",
     "text": [
      "True=True, False=False\n",
      "True=1, False=0\n",
      "True==1: True\n",
      "True==2: False\n",
      "=== bool运算 and, or, not ===\n",
      "True and False: False\n",
      "True or False: True\n",
      "not True: False\n"
     ]
    }
   ],
   "source": [
    "# bool类型\n",
    "# True=1, False=0\n",
    "print(\"True={}, False={}\".format(True, False))\n",
    "print(\"True={}, False={}\".format(1, 0))\n",
    "print(\"True==1: {}\".format(True==1))\n",
    "print(\"True==2: {}\".format(True==2))\n",
    "\n",
    "# bool运算 and, or, not\n",
    "print(\"=== bool运算 and, or, not ===\")\n",
    "print(\"True and False: {}\".format(True and False))\n",
    "print(\"True or False: {}\".format(True or False))\n",
    "print(\"not True: {}\".format(not True))\n"
   ]
  },
  {
   "cell_type": "markdown",
   "metadata": {},
   "source": [
    " - 比较运算符\n",
    " \n",
    "|运算符|含义|\n",
    "|:---:|:---:|\n",
    "|<|小于|\n",
    "|<=|小于等于|\n",
    "|> |大于 |\n",
    "|>= |大于等于 |\n",
    "|== |等于 |\n",
    "|!= |不等 |\n",
    "|is |是相同对象 |\n"
   ]
  },
  {
   "cell_type": "markdown",
   "metadata": {},
   "source": [
    "#### 1.3.3.3 列表\n",
    " - 可以容纳任意类型的对象，任意数量的对旬\n",
    " - 【重点】列表是可变类型,长度可变，元素可变"
   ]
  },
  {
   "cell_type": "code",
   "execution_count": 8,
   "metadata": {},
   "outputs": [
    {
     "name": "stdout",
     "output_type": "stream",
     "text": [
      "[]\n",
      "2373648473224\n",
      "[]\n",
      "2373648473992\n",
      "[1, 2, 3, 'hello', 100, [5, 69, 'sat']]\n",
      "2373648473096\n",
      "=========可变类型===========\n",
      "2373648473992\n",
      "2373648473992\n",
      "2373648473992\n",
      "2373648473992\n",
      "mylist=[1, 2, 'hello world', 100]\n",
      "2373648473992\n",
      "mylist=[9, 2, 'hello world', 100]\n",
      "=========切片操作===========\n",
      "[9, 2]\n",
      "['hello world', 100]\n",
      "[9, 2, 'hello world', 100, 5, 6]\n",
      "[9, 2, 'hello world', 100, 9, 2, 'hello world', 100, 9, 2, 'hello world', 100, 9, 2, 'hello world', 100]\n",
      "=========元素操作===========\n",
      "4\n",
      "[9, 2, 'hello world', 100, 999]\n",
      "[]\n",
      "[1, 2, 3, [5, 6]]\n",
      "mylist_id=2373648473096, mylist_1_id=2373648473352, mylist_2_id=2373648473096\n",
      "mylist[-1].id=2373648427912, mylist_1[-1].id=2373648427912\n"
     ]
    }
   ],
   "source": [
    "# 按L(l)键，显示行号切换\n",
    "# 空表列\n",
    "mylist= []\n",
    "print(mylist)\n",
    "print(id(mylist))\n",
    "mylist=list()\n",
    "print(mylist)\n",
    "print(id(mylist))\n",
    "mylist=[1,2,3,\"hello\",100,[5,69,'sat']]\n",
    "print(mylist)\n",
    "print(id(mylist))\n",
    "\n",
    "# 列表是可变类型\n",
    "print(\"=========可变类型===========\")\n",
    "mylist = []\n",
    "print(id(mylist))\n",
    "mylist.append(1)  # 没有返回值，而是修改了列表对象本身\n",
    "print(id(mylist))\n",
    "mylist.append(2)\n",
    "print(id(mylist))\n",
    "mylist.append('hello world')\n",
    "mylist.append(100)\n",
    "print(id(mylist))\n",
    "print(\"mylist={}\".format(mylist))\n",
    "mylist[0]=9\n",
    "print(id(mylist))\n",
    "print(\"mylist={}\".format(mylist))\n",
    "\n",
    "# 切片操作\n",
    "print(\"=========切片操作===========\")\n",
    "print(mylist[:2])\n",
    "print(mylist[-2:])\n",
    "print(mylist+[5,6])\n",
    "print(mylist*4)\n",
    "\n",
    "\n",
    "print(\"=========元素操作===========\")\n",
    "# 序列：列表是一种容器型的序列，字符串是一种扁平型的序列\n",
    "print(len(mylist))\n",
    "\n",
    "# 尾部增加元素\n",
    "mylist.append(999)\n",
    "print(mylist)\n",
    "\n",
    "# 清空列表\n",
    "mylist.clear()\n",
    "print(mylist)\n",
    "\n",
    "# copy 列表\n",
    "mylist = [1,2,3, [5,6]]\n",
    "mylist_1 = mylist.copy()\n",
    "mylist_2 = mylist\n",
    "print(mylist_1)\n",
    "\n",
    "# copy 与变量赋值的区别： copy只复制内容，不共享内存，变量赋值共享内容\n",
    "print('mylist_id={}, mylist_1_id={}, mylist_2_id={}'.format(id(mylist), id(mylist_1), id(mylist_2)))\n",
    "\n",
    "# 浅复制\n",
    "print('mylist[-1].id={}, mylist_1[-1].id={}'.format(id(mylist[-1]), id(mylist_1[-1])))\n"
   ]
  },
  {
   "cell_type": "code",
   "execution_count": 4,
   "metadata": {},
   "outputs": [
    {
     "name": "stdout",
     "output_type": "stream",
     "text": [
      "[1, 2, 3, 4, 5]\n",
      "[1, 2]\n",
      "[1, 2, 3, 4, 5]\n",
      "[99, 1, 2, 3, 4, 5]\n",
      "b=5, a=[99, 1, 2, 3, 4]\n",
      "b=99, a=[1, 2, 3, 4]\n",
      "[199, 233, 521, 32, 233]\n",
      "[199, 521, 32, 233]\n",
      "========Sort==========\n",
      "[199, 521, 32, 233]\n",
      "199 521 32 233\n",
      "1999622341256\n",
      "[32, 199, 233, 521]\n",
      "1999622341256\n",
      "32 199 233 521\n",
      "True\n"
     ]
    }
   ],
   "source": [
    "# 列表运算\n",
    "a = [1,2]\n",
    "b = [3,4,5]\n",
    "print(a+b)\n",
    "print(a)\n",
    "\n",
    "# a + b： a与b都不变，a.extend中的a被改变\n",
    "a.extend(b)\n",
    "print(a)\n",
    "\n",
    "# insert ： 在指定位置\n",
    "a.insert(0,99)\n",
    "print(a)\n",
    "\n",
    "# pop \n",
    "b = a.pop()  # 弹出最后一个元素\n",
    "print('b={}, a={}'.format(b,a))\n",
    "\n",
    "b = a.pop(0) # 弹出指定索引的元素\n",
    "print('b={}, a={}'.format(b,a))\n",
    "\n",
    "# remove : 移出指定的值，只移除第一个相等的值\n",
    "list = [199,233, 521,32,233]\n",
    "print(list)\n",
    "list.remove(233)\n",
    "print(list)\n",
    "\n",
    "# sort: 排序\n",
    "print('========Sort==========')\n",
    "print(list)\n",
    "print(*list)\n",
    "print(id(list))\n",
    "list.sort() # 无返回值, 排序后值直接放在list中\n",
    "print(list)\n",
    "print(id(list))\n",
    "print(*list) # 把列表拆成一列数了\n",
    "\n",
    "# in：判断元素在列表中\n",
    "print(32 in list)\n"
   ]
  },
  {
   "cell_type": "markdown",
   "metadata": {},
   "source": [
    "#### 1.3.3.4 元组\n",
    " - 不可变的列表"
   ]
  },
  {
   "cell_type": "code",
   "execution_count": 12,
   "metadata": {},
   "outputs": [
    {
     "name": "stdout",
     "output_type": "stream",
     "text": [
      "()\n",
      "(1, 2, 3, 4, 3, 5, 3, 9, 3)\n",
      "4\n",
      "7\n"
     ]
    }
   ],
   "source": [
    "var = tuple()\n",
    "print(var)\n",
    "var = (1,2,3,4,3,5,3,9,3)\n",
    "print(var)\n",
    "print(var.count(3)) # 求指定值的个数\n",
    "print(var.index(9)) # 求指定值的索引"
   ]
  },
  {
   "cell_type": "markdown",
   "metadata": {},
   "source": [
    "#### 1.3.3.5 字典类型\n",
    " - 其元素为key:value对"
   ]
  },
  {
   "cell_type": "code",
   "execution_count": 18,
   "metadata": {},
   "outputs": [
    {
     "name": "stdout",
     "output_type": "stream",
     "text": [
      "{}\n",
      "{'abc': 100, 'hello': 200, 'world': 300}\n",
      "100 , 200\n"
     ]
    }
   ],
   "source": [
    "dict = {}\n",
    "print(dict)\n",
    "dict = {'abc':100, 'hello':200, 'world':300}\n",
    "print(dict)\n",
    "print(dict['abc'], ',', dict['hello'])"
   ]
  },
  {
   "cell_type": "markdown",
   "metadata": {},
   "source": [
    " - 拉锁函数"
   ]
  },
  {
   "cell_type": "code",
   "execution_count": 28,
   "metadata": {},
   "outputs": [
    {
     "name": "stdout",
     "output_type": "stream",
     "text": [
      "[(1, 4), (2, 5), (3, 6)]\n",
      "a1= (1, 2, 3)\n",
      "a2= (4, 5, 6)\n",
      "[(1, 4), (2, 5), (3, 6)]\n",
      "a3= (1, 2, 3)\n",
      "a4= (4, 5, 6)\n"
     ]
    }
   ],
   "source": [
    "a = [1,2,3]\n",
    "b = [4,5,6]\n",
    "c = [4,5,6,7,8]\n",
    "z = zip(a,b)\n",
    "\n",
    "dlist = list(z)\n",
    "print(dlist)\n",
    "\n",
    "a1, a2 = zip(*dlist)\n",
    "print('a1=',a1)\n",
    "print('a2=',a2)\n",
    "\n",
    "print(list(zip(a,b)))\n",
    "a3,a4 = zip(*zip(a,b))\n",
    "print('a3=',a3)\n",
    "print('a4=',a4)\n",
    "\n",
    "# >>> zipped = zip(a,b)     # 返回一个对象\n",
    "# >>> zipped\n",
    "# <zip object at 0x103abc288>\n",
    "# >>> list(zipped)  # list() 转换为列表\n",
    "# [(1, 4), (2, 5), (3, 6)]\n",
    "# >>> list(zip(a,c))              # 元素个数与最短的列表一致\n",
    "# [(1, 4), (2, 5), (3, 6)]\n",
    " \n",
    "# >>> a1, a2 = zip(*zip(a,b))          # 与 zip 相反，zip(*) 可理解为解压，返回二维矩阵式\n",
    "# >>> list(a1)\n",
    "# [1, 2, 3]\n",
    "# >>> list(a2)\n",
    "# [4, 5, 6]"
   ]
  },
  {
   "cell_type": "code",
   "execution_count": 48,
   "metadata": {},
   "outputs": [
    {
     "name": "stdout",
     "output_type": "stream",
     "text": [
      "tlist= [('left', '100'), ('right', '200')]\n",
      "tdict= {'left': '100', 'right': '200'}\n",
      "[(1, 4, 9), (2, 6, 10), (3, 7, 21)]\n"
     ]
    }
   ],
   "source": [
    "words = ['left', 'right']\n",
    "values = ['100', '200']\n",
    "\n",
    "tlist = list(zip(words, values))\n",
    "print('tlist=', tlist)\n",
    "\n",
    "tdict = dict(tlist)\n",
    "print('tdict=',tdict)\n",
    "\n",
    "print(list(zip([1,2,3], [4,6,7], [9,10,21,33])))\n",
    "\n",
    "students = ['wang', 'li']\n",
    "accounts = dict.fromkeys(students,10)"
   ]
  },
  {
   "cell_type": "markdown",
   "metadata": {},
   "source": [
    " - 访问字典中的值"
   ]
  },
  {
   "cell_type": "code",
   "execution_count": 77,
   "metadata": {},
   "outputs": [
    {
     "name": "stdout",
     "output_type": "stream",
     "text": [
      "10\n",
      "10\n",
      "dict_keys(['wang', 'li', 'sun'])\n",
      "dict_values([10, 10, 10])\n",
      "dict_items([('wang', 10), ('li', 10), ('sun', 10)])\n",
      "{'wang': 10, 'li': 10, 'sun': 10}\n",
      "10\n",
      "{'li': 10, 'sun': 10}\n",
      "{'li': 100, 'sun': 10}\n",
      "10\n",
      "{'li': 100, 'sun': 10}\n"
     ]
    }
   ],
   "source": [
    "students = ['wang', 'li', 'sun']\n",
    "accounts = dict.fromkeys(students,10)\n",
    "\n",
    "print(accounts['wang'])\n",
    "print(accounts.get('li',20))\n",
    "\n",
    "print(accounts.keys())\n",
    "print(accounts.values())\n",
    "print(accounts.items())\n",
    "print(accounts)\n",
    "\n",
    "# 删除操作\n",
    "print(accounts.pop('wang')) # 返回对应的value\n",
    "print(accounts)\n",
    "\n",
    "accounts['li'] = 100\n",
    "print(accounts)\n",
    "\n",
    "print(accounts.setdefault('sun',99))\n",
    "print(accounts)"
   ]
  },
  {
   "cell_type": "code",
   "execution_count": null,
   "metadata": {},
   "outputs": [],
   "source": []
  },
  {
   "cell_type": "code",
   "execution_count": null,
   "metadata": {},
   "outputs": [],
   "source": []
  },
  {
   "cell_type": "code",
   "execution_count": null,
   "metadata": {},
   "outputs": [],
   "source": []
  },
  {
   "cell_type": "code",
   "execution_count": null,
   "metadata": {},
   "outputs": [],
   "source": []
  }
 ],
 "metadata": {
  "kernelspec": {
   "display_name": "Python 3",
   "language": "python",
   "name": "python3"
  },
  "language_info": {
   "codemirror_mode": {
    "name": "ipython",
    "version": 3
   },
   "file_extension": ".py",
   "mimetype": "text/x-python",
   "name": "python",
   "nbconvert_exporter": "python",
   "pygments_lexer": "ipython3",
   "version": "3.6.5"
  }
 },
 "nbformat": 4,
 "nbformat_minor": 2
}

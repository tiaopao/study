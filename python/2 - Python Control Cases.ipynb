{
 "cells": [
  {
   "cell_type": "markdown",
   "metadata": {},
   "source": [
    "# 2. 控制语句"
   ]
  },
  {
   "cell_type": "markdown",
   "metadata": {},
   "source": [
    "## 2.1 条件判断\n",
    " - 条件判断条件判断可以任意组合（if elif ... elfi else）\n",
    " - 条件判断可以嵌套\n",
    " - 条件判断是有与无的判断"
   ]
  },
  {
   "cell_type": "code",
   "execution_count": 4,
   "metadata": {},
   "outputs": [
    {
     "name": "stdout",
     "output_type": "stream",
     "text": [
      "1 not  in list a\n"
     ]
    }
   ],
   "source": [
    "a = [2,3,5]\n",
    "if not 1 in a:\n",
    "    print('1 not  in list a')\n"
   ]
  },
  {
   "cell_type": "markdown",
   "metadata": {},
   "source": [
    "## 2.2 循环\n",
    " - For循环：遍历循环\n",
    " - While循环：条件循环\n",
    " - 只要可以使用For循环，就不要使用While循环(条件复杂，有可能进入死循环)\n",
    " - 当循环的条件与数量没有关系时，必须用while循环\n",
    " - For循环中的else: 如何循环中没有执行break语句，则执行else中的代码"
   ]
  },
  {
   "cell_type": "code",
   "execution_count": 7,
   "metadata": {},
   "outputs": [
    {
     "name": "stdout",
     "output_type": "stream",
     "text": [
      "range(0, 10)\n",
      "a=[0, 1, 2, 3, 4, 5, 6, 7, 8, 9, 10, 11, 12, 13, 14, 15, 16, 17, 18, 19]\n",
      "2 is odd\n",
      "4 is odd\n",
      "6 is odd\n",
      "all\n"
     ]
    }
   ],
   "source": [
    "a = []\n",
    "print(range(10))\n",
    "\n",
    "for i in range(20):\n",
    "    a.append(i)\n",
    "print('a={}'.format(a))\n",
    "\n",
    "random_numbers = [2,4,6]\n",
    "for number in random_numbers:\n",
    "    if number %2 == 0:\n",
    "        print('{} is odd'.format(number))\n",
    "    else:\n",
    "        break;\n",
    "else:\n",
    "    print('all')"
   ]
  },
  {
   "cell_type": "code",
   "execution_count": 6,
   "metadata": {},
   "outputs": [
    {
     "name": "stdout",
     "output_type": "stream",
     "text": [
      "2 is odd\n",
      "4 is odd\n"
     ]
    }
   ],
   "source": [
    "random_numbers = [2,4,3,6]\n",
    "# for循环中的else: 如何循环中没有执行break语句，则执行else中的代码\n",
    "for number in random_numbers:\n",
    "    if number %2 == 0:\n",
    "        print('{} is odd'.format(number))\n",
    "    else:\n",
    "        break;\n",
    "else:\n",
    "    print('all')"
   ]
  },
  {
   "cell_type": "markdown",
   "metadata": {},
   "source": [
    " - for循环支持推导式\n",
    "     - 推导式：从一种数据序列构建另一个数据序列的方法   \n",
    " - 列表推导式     "
   ]
  },
  {
   "cell_type": "code",
   "execution_count": 16,
   "metadata": {},
   "outputs": [
    {
     "name": "stdout",
     "output_type": "stream",
     "text": [
      "random_numbers=[0, 1, 2, 3, 4, 5, 6, 7, 8, 9]\n",
      "new_numbers=[0, 10, 20, 30, 40, 50, 60, 70, 80, 90]\n",
      "new_numbers1=[0, 10, 20, 30, 40, 50, 60, 70, 80, 90]\n"
     ]
    }
   ],
   "source": [
    "random_numbers = list(range(10))\n",
    "print(\"random_numbers={}\".format(random_numbers))\n",
    "\n",
    "new_numbers = []\n",
    "for number in random_numbers:\n",
    "    new_numbers.append(number * 10)\n",
    "print('new_numbers={}'.format(new_numbers))  \n",
    "\n",
    "new_numbers1 = [number*10 for number in random_numbers]\n",
    "print('new_numbers1={}'.format(new_numbers1))  "
   ]
  },
  {
   "cell_type": "markdown",
   "metadata": {},
   "source": [
    " - 字典推导式"
   ]
  },
  {
   "cell_type": "code",
   "execution_count": 18,
   "metadata": {},
   "outputs": [
    {
     "name": "stdout",
     "output_type": "stream",
     "text": [
      "dict_numbers={0: 'A', 1: 'A', 2: 'A', 3: 'A', 4: 'A', 5: 'A', 6: 'A', 7: 'A', 8: 'A', 9: 'A'}\n"
     ]
    }
   ],
   "source": [
    "random_numers = list(range(10))\n",
    "dict_numbers = {number:'A' for number in random_numbers}\n",
    "print('dict_numbers={}'.format(dict_numbers))"
   ]
  },
  {
   "cell_type": "markdown",
   "metadata": {},
   "source": [
    " - 生成器：流式输出数据，且只能使得一次 "
   ]
  },
  {
   "cell_type": "code",
   "execution_count": 23,
   "metadata": {},
   "outputs": [
    {
     "name": "stdout",
     "output_type": "stream",
     "text": [
      "tuple_numbers=<generator object <genexpr> at 0x00000226892C7048>\n",
      "(0, 1, 2, 3, 4, 5, 6, 7, 8, 9)\n"
     ]
    }
   ],
   "source": [
    "random_numers = list(range(10))\n",
    "tuple_numbers = (number for number in random_numbers)\n",
    "print('tuple_numbers={}'.format(tuple_numbers))\n",
    "\n",
    "# print(list(tuple_numbers))\n",
    "print(tuple(tuple_numbers))"
   ]
  },
  {
   "cell_type": "code",
   "execution_count": null,
   "metadata": {},
   "outputs": [],
   "source": []
  },
  {
   "cell_type": "code",
   "execution_count": null,
   "metadata": {},
   "outputs": [],
   "source": []
  },
  {
   "cell_type": "code",
   "execution_count": null,
   "metadata": {},
   "outputs": [],
   "source": []
  },
  {
   "cell_type": "code",
   "execution_count": null,
   "metadata": {},
   "outputs": [],
   "source": []
  },
  {
   "cell_type": "code",
   "execution_count": null,
   "metadata": {},
   "outputs": [],
   "source": []
  },
  {
   "cell_type": "code",
   "execution_count": null,
   "metadata": {},
   "outputs": [],
   "source": []
  },
  {
   "cell_type": "code",
   "execution_count": null,
   "metadata": {},
   "outputs": [],
   "source": []
  }
 ],
 "metadata": {
  "kernelspec": {
   "display_name": "Python 3",
   "language": "python",
   "name": "python3"
  },
  "language_info": {
   "codemirror_mode": {
    "name": "ipython",
    "version": 3
   },
   "file_extension": ".py",
   "mimetype": "text/x-python",
   "name": "python",
   "nbconvert_exporter": "python",
   "pygments_lexer": "ipython3",
   "version": "3.6.5"
  }
 },
 "nbformat": 4,
 "nbformat_minor": 2
}
